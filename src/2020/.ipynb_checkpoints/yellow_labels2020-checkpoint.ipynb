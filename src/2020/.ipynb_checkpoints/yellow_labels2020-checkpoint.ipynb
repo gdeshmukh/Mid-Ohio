{
 "cells": [
  {
   "cell_type": "code",
   "execution_count": 6,
   "metadata": {},
   "outputs": [],
   "source": [
    "import pandas as pd\n",
    "from datetime import datetime, timedelta, date\n",
    "from collections import defaultdict\n",
    "import json"
   ]
  },
  {
   "cell_type": "code",
   "execution_count": 7,
   "metadata": {},
   "outputs": [],
   "source": [
    "df = pd.read_csv('../../data/2020/2020_mod.csv')"
   ]
  },
  {
   "cell_type": "code",
   "execution_count": 8,
   "metadata": {},
   "outputs": [
    {
     "data": {
      "text/plain": [
       "['1900-01-01 00:56:26.514000',\n",
       " '1900-01-01 02:20:42.061000',\n",
       " '1900-01-01 02:41:54.778000',\n",
       " '1900-01-01 03:46:21.715000',\n",
       " '1900-01-01 04:54:16.354000',\n",
       " '1900-01-01 05:33:12.449000',\n",
       " '1900-01-01 06:00:22.836000',\n",
       " '1900-01-01 08:21:25.153000',\n",
       " '1900-01-01 11:33:26.606000']"
      ]
     },
     "execution_count": 8,
     "metadata": {},
     "output_type": "execute_result"
    }
   ],
   "source": [
    "flag_times = []\n",
    "end_times = []\n",
    "green_flag = True\n",
    "for index, row in df.iterrows():\n",
    "    if row.Flag == 'Green':\n",
    "        if green_flag == False:\n",
    "            end_times.append(row['Session Time'])\n",
    "        green_flag = True\n",
    "    elif green_flag and row.Flag == 'Yellow':\n",
    "        flag_times.append(row['Session Time'])\n",
    "        green_flag = False\n",
    "flag_times"
   ]
  },
  {
   "cell_type": "code",
   "execution_count": 9,
   "metadata": {},
   "outputs": [],
   "source": [
    "#[..., 4, 77]"
   ]
  },
  {
   "cell_type": "code",
   "execution_count": 10,
   "metadata": {},
   "outputs": [
    {
     "data": {
      "text/plain": [
       "[3360.0, 8400.0, 9660.0, 13560.0, 17640.0, 19980.0, 21600.0, 30060.0, 41580.0]"
      ]
     },
     "execution_count": 10,
     "metadata": {},
     "output_type": "execute_result"
    }
   ],
   "source": [
    "yellow_flag_second_times = []\n",
    "for f in flag_times:\n",
    "    first_flag = datetime.strptime(f, '%Y-%m-%d %H:%M:%S.%f')\n",
    "    starting_date = datetime(1900, 1, 1)\n",
    "    flag_seconds = (first_flag - starting_date).total_seconds()\n",
    "    flag_seconds = flag_seconds//60 * 60\n",
    "    yellow_flag_second_times.append(flag_seconds)\n",
    "yellow_flag_second_times\n",
    "end_second_times = []\n",
    "for e in end_times:\n",
    "    first_end = datetime.strptime(e, '%Y-%m-%d %H:%M:%S.%f')\n",
    "    starting_date = datetime(1900, 1, 1)\n",
    "    end_seconds = (first_end - starting_date).total_seconds()\n",
    "    end_seconds = end_seconds//60 * 60\n",
    "    end_second_times.append(end_seconds)\n",
    "yellow_flag_second_times"
   ]
  },
  {
   "cell_type": "code",
   "execution_count": 11,
   "metadata": {},
   "outputs": [],
   "source": [
    "with open('../../data/2020/20_start_end.csv', 'w') as f:\n",
    "    f.write('Start,End\\n')\n",
    "    for s, e in zip(yellow_flag_second_times,end_second_times):\n",
    "        f.write(\"%s,%s\\n\"%(s, e))"
   ]
  },
  {
   "cell_type": "code",
   "execution_count": 11,
   "metadata": {},
   "outputs": [],
   "source": [
    "is_yellow = {}\n",
    "for t in range(20, MAXTIME+1, 20):\n",
    "    if t in yellow_flag_second_times or (t+20) in yellow_flag_second_times or (t+40) in yellow_flag_second_times or (t+60) in yellow_flag_second_times:\n",
    "        is_yellow[t] = 1\n",
    "    else:\n",
    "        is_yellow[t] = 0"
   ]
  },
  {
   "cell_type": "code",
   "execution_count": 7,
   "metadata": {},
   "outputs": [
    {
     "ename": "NameError",
     "evalue": "name 'is_yellow' is not defined",
     "output_type": "error",
     "traceback": [
      "\u001b[1;31m---------------------------------------------------------------------------\u001b[0m",
      "\u001b[1;31mNameError\u001b[0m                                 Traceback (most recent call last)",
      "\u001b[1;32m<ipython-input-7-e0ecfff8d5e0>\u001b[0m in \u001b[0;36m<module>\u001b[1;34m\u001b[0m\n\u001b[0;32m      1\u001b[0m \u001b[1;32mwith\u001b[0m \u001b[0mopen\u001b[0m\u001b[1;33m(\u001b[0m\u001b[1;34m'../../data/2020/20_yellow_labels.csv'\u001b[0m\u001b[1;33m,\u001b[0m \u001b[1;34m'w'\u001b[0m\u001b[1;33m)\u001b[0m \u001b[1;32mas\u001b[0m \u001b[0mf\u001b[0m\u001b[1;33m:\u001b[0m\u001b[1;33m\u001b[0m\u001b[1;33m\u001b[0m\u001b[0m\n\u001b[0;32m      2\u001b[0m     \u001b[0mf\u001b[0m\u001b[1;33m.\u001b[0m\u001b[0mwrite\u001b[0m\u001b[1;33m(\u001b[0m\u001b[1;34m'Time,Yellow\\n'\u001b[0m\u001b[1;33m)\u001b[0m\u001b[1;33m\u001b[0m\u001b[1;33m\u001b[0m\u001b[0m\n\u001b[1;32m----> 3\u001b[1;33m     \u001b[1;32mfor\u001b[0m \u001b[0mkey\u001b[0m \u001b[1;32min\u001b[0m \u001b[0mis_yellow\u001b[0m\u001b[1;33m.\u001b[0m\u001b[0mkeys\u001b[0m\u001b[1;33m(\u001b[0m\u001b[1;33m)\u001b[0m\u001b[1;33m:\u001b[0m\u001b[1;33m\u001b[0m\u001b[1;33m\u001b[0m\u001b[0m\n\u001b[0m\u001b[0;32m      4\u001b[0m         \u001b[0mf\u001b[0m\u001b[1;33m.\u001b[0m\u001b[0mwrite\u001b[0m\u001b[1;33m(\u001b[0m\u001b[1;34m\"%s,%s\\n\"\u001b[0m\u001b[1;33m%\u001b[0m\u001b[1;33m(\u001b[0m\u001b[0mkey\u001b[0m\u001b[1;33m,\u001b[0m \u001b[0mis_yellow\u001b[0m\u001b[1;33m[\u001b[0m\u001b[0mkey\u001b[0m\u001b[1;33m]\u001b[0m\u001b[1;33m)\u001b[0m\u001b[1;33m)\u001b[0m\u001b[1;33m\u001b[0m\u001b[1;33m\u001b[0m\u001b[0m\n",
      "\u001b[1;31mNameError\u001b[0m: name 'is_yellow' is not defined"
     ]
    }
   ],
   "source": [
    "with open('../../data/2020/20_yellow_labels.csv', 'w') as f:\n",
    "    f.write('Time,Yellow\\n')\n",
    "    for key in is_yellow.keys():\n",
    "        f.write(\"%s,%s\\n\"%(key, is_yellow[key]))"
   ]
  },
  {
   "cell_type": "code",
   "execution_count": null,
   "metadata": {},
   "outputs": [],
   "source": []
  }
 ],
 "metadata": {
  "kernelspec": {
   "display_name": "Python 3",
   "language": "python",
   "name": "python3"
  },
  "language_info": {
   "codemirror_mode": {
    "name": "ipython",
    "version": 3
   },
   "file_extension": ".py",
   "mimetype": "text/x-python",
   "name": "python",
   "nbconvert_exporter": "python",
   "pygments_lexer": "ipython3",
   "version": "3.7.6"
  }
 },
 "nbformat": 4,
 "nbformat_minor": 4
}

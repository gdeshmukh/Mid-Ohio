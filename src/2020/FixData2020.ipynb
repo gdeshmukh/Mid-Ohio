{
 "cells": [
  {
   "cell_type": "code",
   "execution_count": 1,
   "metadata": {},
   "outputs": [],
   "source": [
    "import pandas as pd\n",
    "import numpy as np\n",
    "from datetime import datetime, timedelta, date\n",
    "from collections import defaultdict\n",
    "import json\n",
    "from scipy.stats import norm\n",
    "import matplotlib.pyplot as plt"
   ]
  },
  {
   "cell_type": "code",
   "execution_count": 2,
   "metadata": {},
   "outputs": [],
   "source": [
    "df = pd.read_csv('../../data/race_data/2020.csv')"
   ]
  },
  {
   "cell_type": "code",
   "execution_count": 3,
   "metadata": {},
   "outputs": [],
   "source": [
    "new_times_s = []\n",
    "for index, time in df['Session Time'].iteritems():\n",
    "    if time.count(':') == 1:\n",
    "        new_times_s.append(datetime.strptime(time, '%M:%S.%f'))\n",
    "    else:\n",
    "        new_times_s.append(datetime.strptime(time, '%H:%M:%S.%f'))\n",
    "df['Session Time'] = new_times_s"
   ]
  },
  {
   "cell_type": "code",
   "execution_count": 4,
   "metadata": {},
   "outputs": [],
   "source": [
    "df.to_csv('../../data/2020/2020_mod.csv', index=False, date_format='%Y-%m-%d %H:%M:%S.%f')"
   ]
  },
  {
   "cell_type": "code",
   "execution_count": 5,
   "metadata": {},
   "outputs": [
    {
     "data": {
      "text/plain": [
       "9676.929"
      ]
     },
     "execution_count": 5,
     "metadata": {},
     "output_type": "execute_result"
    }
   ],
   "source": [
    "MAXTIME = df['Session Time'].max()\n",
    "start_date = datetime(1900, 1, 1)\n",
    "MAXTIME = (MAXTIME - start_date).total_seconds()\n",
    "MAXTIME"
   ]
  },
  {
   "cell_type": "code",
   "execution_count": 6,
   "metadata": {},
   "outputs": [],
   "source": [
    "pit_times = {}\n",
    "for car in list(pd.unique(df.Car)):\n",
    "    df_car = df.loc[(df['Car'] == car) & (df['Location'] == 'Pit')]\n",
    "    pt = list(pd.unique(df_car['Session Time']))\n",
    "    d_zero = np.datetime64('1900-01-01T00:00:00')\n",
    "    pt = [(d - d_zero) / np.timedelta64(1, 's') for d in pt]\n",
    "    pt = [0] + pt\n",
    "    pit_times[car] = pt"
   ]
  },
  {
   "cell_type": "code",
   "execution_count": 7,
   "metadata": {},
   "outputs": [],
   "source": [
    "flagtimes = [2100.0, 5460.0, 7260.0]\n",
    "cars = [77, 30, 85]\n",
    "\n",
    "def getLastPit(car, time):\n",
    "    lp = max([t for t in pit_times[car] if t <= time])\n",
    "    return (time - lp) / 60\n",
    "\n",
    "with open('../../data/2020/20_stopped_car_pit.csv', 'w') as f:\n",
    "    f.write('Car,Flag Time,Last Pit\\n')\n",
    "    \n",
    "    for t in zip(cars, flagtimes):\n",
    "        f.write(\"%s,%s,%s\\n\"%(t[0], t[1], getLastPit(t[0], t[1])))"
   ]
  },
  {
   "cell_type": "code",
   "execution_count": 8,
   "metadata": {},
   "outputs": [],
   "source": [
    "def get_risk_score(x):\n",
    "    MEAN1 = 0\n",
    "    STD1 = 21.751478190190515\n",
    "    return norm.pdf(x, MEAN1, STD1)*10"
   ]
  },
  {
   "cell_type": "code",
   "execution_count": 9,
   "metadata": {},
   "outputs": [
    {
     "data": {
      "text/plain": [
       "[(2100., 2760.), (5460., 6300.), (7260., 7860.)]"
      ]
     },
     "execution_count": 9,
     "metadata": {},
     "output_type": "execute_result"
    }
   ],
   "source": [
    "intervals = pd.read_csv('../../data/2020/20_start_end.csv')\n",
    "intervals = intervals.to_records(index=False)\n",
    "intervals = [t for t in intervals if t[0] in flagtimes]\n",
    "intervals"
   ]
  },
  {
   "cell_type": "code",
   "execution_count": 10,
   "metadata": {},
   "outputs": [],
   "source": [
    "def get_current_driver(car, time):\n",
    "    temp = df[df['Car'] == car]\n",
    "    for _, row in temp.iterrows():\n",
    "        d_zero = np.datetime64('1900-01-01T00:00:00')\n",
    "        current_seconds = (datetime.strptime(row['Session Time'], '%Y-%m-%d %H:%M:%S.%f') - d_zero).total_seconds()\n",
    "        if current_seconds > time:\n",
    "            return row.Driver"
   ]
  },
  {
   "cell_type": "code",
   "execution_count": 12,
   "metadata": {},
   "outputs": [],
   "source": [
    "risk_score = {}\n",
    "sus_score = {}\n",
    "intervals_c = np.copy(intervals)\n",
    "for t in range(0, int(MAXTIME), 60):\n",
    "    agg_risk = 0\n",
    "    agg_sus = 0\n",
    "    agg_std = 0\n",
    "    for car in pit_times:\n",
    "        if len(intervals_c) > 0 and intervals_c[0][0] < t < intervals_c[0][1]:\n",
    "            pass\n",
    "        elif len(intervals_c) > 0 and t > intervals_c[0][1]:\n",
    "            intervals_c = intervals_c[1:]\n",
    "        else:\n",
    "            agg_risk += get_risk_score(getLastPit(car, t))\n",
    "            \n",
    "        \n",
    "        agg_std += \n",
    "        \n",
    "        previous = [time for time in pit_times[car] if time <= t]\n",
    "        pt = 0\n",
    "        sus = 0\n",
    "        for p in previous[1:]:\n",
    "            if p - pt < 600:\n",
    "#                 print(previous)\n",
    "                sus += 100\n",
    "            elif p - pt < 900:\n",
    "                sus += 80\n",
    "            elif p - pt < 1500:\n",
    "                sus += 30\n",
    "            else:\n",
    "                sus -= .25\n",
    "            pt = p\n",
    "        agg_sus += sus\n",
    "        \n",
    "    risk_score[t] = agg_risk\n",
    "    sus_score[t] = agg_sus"
   ]
  },
  {
   "cell_type": "code",
   "execution_count": 13,
   "metadata": {},
   "outputs": [],
   "source": [
    "sus_deriv = {}\n",
    "intervals_c = np.copy(intervals)\n",
    "for t in range(60, int(MAXTIME), 60):\n",
    "    sus_deriv[t] = (sus_score[t] - sus_score[t-60]) / 60\n",
    "    if len(intervals_c) > 0:\n",
    "        if intervals_c[0][0] < t < intervals_c[0][1]:\n",
    "            sus_deriv[t] = 0\n",
    "        elif t > intervals_c[0][1]:\n",
    "            intervals_c = intervals_c[1:]"
   ]
  },
  {
   "cell_type": "code",
   "execution_count": null,
   "metadata": {},
   "outputs": [],
   "source": []
  },
  {
   "cell_type": "code",
   "execution_count": 14,
   "metadata": {},
   "outputs": [
    {
     "data": {
      "image/png": "[encoded data removed]",
      "text/plain": [
       "<Figure size 1080x504 with 1 Axes>"
      ]
     },
     "metadata": {
      "needs_background": "light"
     },
     "output_type": "display_data"
    }
   ],
   "source": [
    "plt.figure(figsize=(15,7))\n",
    "plt.plot(list(risk_score.keys()), list(risk_score.values()))\n",
    "plt.vlines(flagtimes, 0, 7)\n",
    "plt.show()"
   ]
  },
  {
   "cell_type": "code",
   "execution_count": 15,
   "metadata": {},
   "outputs": [
    {
     "data": {
      "image/png": "[encoded data removed]",
      "text/plain": [
       "<Figure size 1080x504 with 1 Axes>"
      ]
     },
     "metadata": {
      "needs_background": "light"
     },
     "output_type": "display_data"
    }
   ],
   "source": [
    "plt.figure(figsize=(15,7))\n",
    "plt.plot(list(sus_score.keys()), list(sus_score.values()))\n",
    "plt.vlines(flagtimes, 0, 4000)\n",
    "plt.show()"
   ]
  },
  {
   "cell_type": "code",
   "execution_count": 16,
   "metadata": {},
   "outputs": [
    {
     "data": {
      "image/png": "[encoded data removed]",
      "text/plain": [
       "<Figure size 1080x504 with 1 Axes>"
      ]
     },
     "metadata": {
      "needs_background": "light"
     },
     "output_type": "display_data"
    }
   ],
   "source": [
    "plt.figure(figsize=(15,7))\n",
    "plt.plot(list(sus_deriv.keys()), list(sus_deriv.values()))\n",
    "plt.vlines(flagtimes, 0, 1)\n",
    "plt.show()"
   ]
  },
  {
   "cell_type": "code",
   "execution_count": 17,
   "metadata": {},
   "outputs": [],
   "source": [
    "with open('../../data/2020/20_risk_score.csv', 'w') as f:\n",
    "    f.write('Time,Risk Score\\n')\n",
    "    for k,v in risk_score.items():\n",
    "        f.write('%s,%s\\n'%(k,v))"
   ]
  },
  {
   "cell_type": "code",
   "execution_count": 18,
   "metadata": {},
   "outputs": [],
   "source": [
    "with open('../../data/2020/20_sus_deriv.csv', 'w') as f:\n",
    "    f.write('Time,Sus Deriv\\n')\n",
    "    for k,v in sus_deriv.items():\n",
    "        f.write('%s,%s\\n'%(k,v))"
   ]
  },
  {
   "cell_type": "code",
   "execution_count": 19,
   "metadata": {},
   "outputs": [
    {
     "ename": "TypeError",
     "evalue": "'float' object cannot be interpreted as an integer",
     "output_type": "error",
     "traceback": [
      "\u001b[0;31m---------------------------------------------------------------------------\u001b[0m",
      "\u001b[0;31mTypeError\u001b[0m                                 Traceback (most recent call last)",
      "\u001b[0;32m<ipython-input-19-64e08d74ed03>\u001b[0m in \u001b[0;36m<module>\u001b[0;34m\u001b[0m\n\u001b[1;32m      6\u001b[0m \u001b[0mlast_pit\u001b[0m \u001b[0;34m=\u001b[0m \u001b[0;34m{\u001b[0m\u001b[0;34m}\u001b[0m\u001b[0;34m\u001b[0m\u001b[0;34m\u001b[0m\u001b[0m\n\u001b[1;32m      7\u001b[0m \u001b[0mavg_speed\u001b[0m \u001b[0;34m=\u001b[0m \u001b[0;34m{\u001b[0m\u001b[0;34m}\u001b[0m\u001b[0;34m\u001b[0m\u001b[0;34m\u001b[0m\u001b[0m\n\u001b[0;32m----> 8\u001b[0;31m \u001b[0;32mfor\u001b[0m \u001b[0mt\u001b[0m \u001b[0;32min\u001b[0m \u001b[0mrange\u001b[0m\u001b[0;34m(\u001b[0m\u001b[0;36m20\u001b[0m\u001b[0;34m,\u001b[0m \u001b[0mMAXTIME\u001b[0m\u001b[0;34m,\u001b[0m \u001b[0;36m20\u001b[0m\u001b[0;34m)\u001b[0m\u001b[0;34m:\u001b[0m\u001b[0;34m\u001b[0m\u001b[0;34m\u001b[0m\u001b[0m\n\u001b[0m\u001b[1;32m      9\u001b[0m     \u001b[0mcars\u001b[0m \u001b[0;34m=\u001b[0m \u001b[0;34m[\u001b[0m\u001b[0;34m]\u001b[0m\u001b[0;34m\u001b[0m\u001b[0;34m\u001b[0m\u001b[0m\n\u001b[1;32m     10\u001b[0m     \u001b[0mspeeds\u001b[0m \u001b[0;34m=\u001b[0m \u001b[0;34m[\u001b[0m\u001b[0;34m]\u001b[0m\u001b[0;34m\u001b[0m\u001b[0;34m\u001b[0m\u001b[0m\n",
      "\u001b[0;31mTypeError\u001b[0m: 'float' object cannot be interpreted as an integer"
     ]
    }
   ],
   "source": [
    "distances = {1: 1876, 2: 1751.33, 3: 1768.67, 4: 2352, 5: 1488, 6: 1475, 7: 1427, \n",
    "             8: 1428, 9: 1457, 10: 1484, 11: 1283, 12: 120, 13: 886.83}\n",
    "\n",
    "num_drivers = defaultdict(lambda: defaultdict(list))\n",
    "concentration = defaultdict(lambda: defaultdict(float))\n",
    "last_pit = {}\n",
    "avg_speed = {}\n",
    "for t in range(20, MAXTIME, 20):\n",
    "    cars = []\n",
    "    speeds = []\n",
    "    for driver in section_mod:\n",
    "        for interval in section_mod[driver]:\n",
    "            if interval[1] <= t <= interval[2]:\n",
    "                num_drivers[t][interval[0]].append((interval[1], interval[2]))\n",
    "                cars.append(interval[3])\n",
    "                speeds.append(interval[4])\n",
    "                break\n",
    "    for section in num_drivers[t]:\n",
    "        concentration[t][section] = (len(num_drivers[t][section]) / distances[section]) * 1000\n",
    "        # cars per 1000 feet\n",
    "    \n",
    "    all_times = []\n",
    "    for car in cars:\n",
    "        lp = max(filter(lambda pt: pt < t, pit_times[car]))\n",
    "        all_times.append(t - lp)\n",
    "    last_pit[t] = np.max(all_times) / 60\n",
    "    avg_speed[t] = np.average(speeds)"
   ]
  },
  {
   "cell_type": "code",
   "execution_count": 20,
   "metadata": {},
   "outputs": [],
   "source": [
    "with open('../../data/2020/20_num_drivers.json', 'w') as outfile:\n",
    "    json.dump(num_drivers, outfile)\n",
    "with open('../../data/2020/20_concentrations.csv', 'w') as f:\n",
    "    f.write('Time,Sector,Concentration\\n')\n",
    "    for time in concentration.keys():\n",
    "        for sector in range(1,14):\n",
    "            f.write(\"%s,%s,%s\\n\"%(time, sector, concentration[time].get(sector, 0)))"
   ]
  },
  {
   "cell_type": "code",
   "execution_count": 21,
   "metadata": {},
   "outputs": [],
   "source": [
    "with open('../../data/2020/20_time_since_pit.csv', 'w') as f:\n",
    "    f.write('Time,Last Pit\\n')\n",
    "    for time, lp in last_pit.items():\n",
    "        f.write(\"%s,%s\\n\"%(time, lp))"
   ]
  },
  {
   "cell_type": "code",
   "execution_count": 18,
   "metadata": {},
   "outputs": [],
   "source": [
    "with open('../../data/2020/20_avg_speed.csv', 'w') as f:\n",
    "    f.write('Time,Speed\\n')\n",
    "    for time, speed in avg_speed.items():\n",
    "        f.write(\"%s,%s\\n\"%(time, speed))"
   ]
  },
  {
   "cell_type": "code",
   "execution_count": null,
   "metadata": {},
   "outputs": [],
   "source": []
  }
 ],
 "metadata": {
  "kernelspec": {
   "display_name": "Python 3",
   "language": "python",
   "name": "python3"
  },
  "language_info": {
   "codemirror_mode": {
    "name": "ipython",
    "version": 3
   },
   "file_extension": ".py",
   "mimetype": "text/x-python",
   "name": "python",
   "nbconvert_exporter": "python",
   "pygments_lexer": "ipython3",
   "version": "3.8.3"
  }
 },
 "nbformat": 4,
 "nbformat_minor": 4
}

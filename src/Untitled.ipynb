{
 "cells": [
  {
   "cell_type": "code",
   "execution_count": 14,
   "metadata": {},
   "outputs": [],
   "source": [
    "import json\n",
    "from datetime import datetime, timedelta, date\n",
    "import matplotlib.pyplot as plt"
   ]
  },
  {
   "cell_type": "code",
   "execution_count": 16,
   "metadata": {},
   "outputs": [
    {
     "data": {
      "text/plain": [
       "{'55': ['0:00:00'],\n",
       " '10': ['0:00:00'],\n",
       " '31': ['0:00:00'],\n",
       " '01': ['0:00:00'],\n",
       " '5': ['0:00:00'],\n",
       " '60': ['0:00:00'],\n",
       " '74': ['0:00:00'],\n",
       " '54': ['0:00:00'],\n",
       " '36': ['0:00:00'],\n",
       " '33': ['0:00:00'],\n",
       " '91': ['0:00:00'],\n",
       " '38': ['0:00:00'],\n",
       " '14': ['0:00:00'],\n",
       " '96': ['0:00:00'],\n",
       " '28': ['0:00:00'],\n",
       " '12': ['0:00:00'],\n",
       " '1': ['0:00:00'],\n",
       " '23': ['0:00:00'],\n",
       " '76': ['0:00:00'],\n",
       " '39': ['0:00:00'],\n",
       " '66': ['0:00:00'],\n",
       " '16': ['0:00:00'],\n",
       " '88': ['0:00:00'],\n",
       " '44': ['0:00:00'],\n",
       " '9': ['0:00:00']}"
      ]
     },
     "execution_count": 16,
     "metadata": {},
     "output_type": "execute_result"
    }
   ],
   "source": [
    "f = open('./result.json', 'r')\n",
    "pit_times = json.load(f)\n",
    "f.close()\n",
    "pit_times"
   ]
  },
  {
   "cell_type": "code",
   "execution_count": 7,
   "metadata": {},
   "outputs": [],
   "source": [
    "def get_last_pit(car, time):\n",
    "    lp = max([t for t in pit_times[car] if t <= time])\n",
    "    return (time - lp) / 60"
   ]
  },
  {
   "cell_type": "code",
   "execution_count": 8,
   "metadata": {},
   "outputs": [],
   "source": [
    "def get_risk_score(x):\n",
    "    MEAN1 = 0\n",
    "    STD1 = 21.751478190190515\n",
    "    return norm.pdf(x, MEAN1, STD1)*10"
   ]
  },
  {
   "cell_type": "code",
   "execution_count": null,
   "metadata": {},
   "outputs": [],
   "source": [
    "agg_risk = {}\n",
    "counter = 0"
   ]
  },
  {
   "cell_type": "code",
   "execution_count": null,
   "metadata": {},
   "outputs": [],
   "source": [
    "plt.figure(figsize=(15, 7))\n",
    "while True:\n",
    "    time.sleep(20)\n",
    "    f = open('./time.json', 'r')\n",
    "    current_time = json.load(f)['time']\n",
    "    f.close()\n",
    "    \n",
    "    risk = 0\n",
    "    for driver in pit_times:\n",
    "        risk += get_risk_score(get_last_pit(driver, current_time))\n",
    "    \n",
    "    agg_risk[counter] = risk\n",
    "    plt.plot(agg_risk.keys(), agg_risk.values())"
   ]
  }
 ],
 "metadata": {
  "kernelspec": {
   "display_name": "Python 3",
   "language": "python",
   "name": "python3"
  },
  "language_info": {
   "codemirror_mode": {
    "name": "ipython",
    "version": 3
   },
   "file_extension": ".py",
   "mimetype": "text/x-python",
   "name": "python",
   "nbconvert_exporter": "python",
   "pygments_lexer": "ipython3",
   "version": "3.7.6"
  }
 },
 "nbformat": 4,
 "nbformat_minor": 4
}

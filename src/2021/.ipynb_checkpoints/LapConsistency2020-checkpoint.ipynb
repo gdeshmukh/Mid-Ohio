{
 "cells": [
  {
   "cell_type": "code",
   "execution_count": 84,
   "metadata": {},
   "outputs": [],
   "source": [
    "import pandas as pd\n",
    "import numpy as np\n",
    "from datetime import datetime, timedelta, date\n",
    "from collections import defaultdict\n",
    "import json\n",
    "from scipy.stats import norm\n",
    "import matplotlib.pyplot as plt"
   ]
  },
  {
   "cell_type": "code",
   "execution_count": 85,
   "metadata": {},
   "outputs": [],
   "source": [
    "df = pd.read_csv('../../data/2020/2020_mod.csv')"
   ]
  },
  {
   "cell_type": "code",
   "execution_count": 86,
   "metadata": {},
   "outputs": [],
   "source": [
    "se = pd.read_csv('../../data/2020/20_start_end_dt.csv')\n",
    "se = [(datetime.strptime(row.Start, '%Y-%m-%d %H:%M:%S.%f'), datetime.strptime(row.End, '%Y-%m-%d %H:%M:%S.%f')) for index,row in se.iterrows()]\n",
    "\n",
    "def checkYellow(time):\n",
    "    t = datetime.strptime(time, '%Y-%m-%d %H:%M:%S.%f')\n",
    "    for interval in se:\n",
    "        if t > interval[0] and t < interval[1] + timedelta(minutes=2):\n",
    "            return True\n",
    "            \n",
    "    return False"
   ]
  },
  {
   "cell_type": "code",
   "execution_count": 87,
   "metadata": {},
   "outputs": [],
   "source": [
    "drivers = df['Driver'].unique()\n",
    "laps = defaultdict(list)"
   ]
  },
  {
   "cell_type": "code",
   "execution_count": 88,
   "metadata": {},
   "outputs": [],
   "source": [
    "for driver in drivers:\n",
    "    temp = df[df['Driver'] == driver]\n",
    "\n",
    "    for _, row in temp.iterrows():  \n",
    "        if not checkYellow(row['Session Time']):\n",
    "            t = datetime.strptime(row['Lap Time'], '%M:%S.%f')\n",
    "            ts = (t - datetime(1900, 1, 1)).total_seconds()\n",
    "            laps[driver].append(ts)"
   ]
  },
  {
   "cell_type": "code",
   "execution_count": 89,
   "metadata": {},
   "outputs": [],
   "source": [
    "lap_var = {driver: np.array(lap_times[1:]).var() for driver, lap_times in laps.items()}"
   ]
  },
  {
   "cell_type": "code",
   "execution_count": 90,
   "metadata": {},
   "outputs": [],
   "source": [
    "with open('../../data/2020/20_lap_var.csv', 'w') as f:\n",
    "    f.write('Driver,Var\\n')\n",
    "    for d, v in lap_var.items():\n",
    "        f.write(\"%s,%s\\n\"%(d,v))"
   ]
  },
  {
   "cell_type": "code",
   "execution_count": null,
   "metadata": {},
   "outputs": [],
   "source": []
  }
 ],
 "metadata": {
  "kernelspec": {
   "display_name": "Python 3",
   "language": "python",
   "name": "python3"
  },
  "language_info": {
   "codemirror_mode": {
    "name": "ipython",
    "version": 3
   },
   "file_extension": ".py",
   "mimetype": "text/x-python",
   "name": "python",
   "nbconvert_exporter": "python",
   "pygments_lexer": "ipython3",
   "version": "3.7.6"
  }
 },
 "nbformat": 4,
 "nbformat_minor": 4
}

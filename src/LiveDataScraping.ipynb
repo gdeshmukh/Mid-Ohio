{
 "cells": [
  {
   "cell_type": "code",
   "execution_count": 16,
   "metadata": {},
   "outputs": [
    {
     "name": "stdout",
     "output_type": "stream",
     "text": [
      "2:40:00\n",
      "defaultdict(<class 'int'>, {'55': '0', '10': '0', '31': '0', '01': '0', '5': '0', '60': '0', '74': '0', '54': '0', '36': '0', '33': '0', '91': '0', '38': '0', '14': '0', '96': '0', '28': '0', '12': '0', '1': '0', '23': '0', '76': '0', '39': '0', '66': '0', '16': '0', '88': '0', '44': '0', '9': '0'})\n",
      "defaultdict(<class 'list'>, {'55': ['0:00:00'], '10': ['0:00:00'], '31': ['0:00:00'], '01': ['0:00:00'], '5': ['0:00:00'], '60': ['0:00:00'], '74': ['0:00:00'], '54': ['0:00:00'], '36': ['0:00:00'], '33': ['0:00:00'], '91': ['0:00:00'], '38': ['0:00:00'], '14': ['0:00:00'], '96': ['0:00:00'], '28': ['0:00:00'], '12': ['0:00:00'], '1': ['0:00:00'], '23': ['0:00:00'], '76': ['0:00:00'], '39': ['0:00:00'], '66': ['0:00:00'], '16': ['0:00:00'], '88': ['0:00:00'], '44': ['0:00:00'], '9': ['0:00:00']})\n"
     ]
    }
   ],
   "source": [
    "import re\n",
    "from selenium import webdriver\n",
    "from selenium.webdriver.common.keys import Keys\n",
    "import sys\n",
    "import time\n",
    "import json\n",
    "from datetime import datetime\n",
    "from collections import defaultdict\n",
    "\n",
    "# ARGS (optional): takes the url of the livetiming, number of queries, and the time between queries (seconds)\n",
    "url = 'https://livetiming.alkamelsystems.com/imsa'# sys.argv[1] if (len(sys.argv) > 1) else 'https://livetiming.alkamelsystems.com/lcsc'\n",
    "max_hits = 1#int(sys.argv[2]) if (len(sys.argv) > 2) else 3\n",
    "interval = 1#int(sys.argv[3]) if (len(sys.argv) > 3) else 5\n",
    "\n",
    "chromedriver_path = '../chromedriver'\n",
    "\n",
    "options = webdriver.ChromeOptions()\n",
    "options.headless = True\n",
    "options.add_experimental_option('excludeSwitches', ['enable-logging'])\n",
    "driver = webdriver.Chrome(options=options, executable_path=chromedriver_path)\n",
    "\n",
    "\n",
    "driver.delete_all_cookies()\n",
    "driver.implicitly_wait(10)\n",
    "\n",
    "driver.get(url)\n",
    "driver.refresh()\n",
    "\n",
    "driver.find_element_by_css_selector('#accept').click()\n",
    "pit_times = defaultdict(list)\n",
    "driver_pit_num = defaultdict(int)\n",
    "start_time = '2:40:00'\n",
    "FMT = '%H:%M:%S'\n",
    "# test_time = '2:15:00'\n",
    "# test_times = []\n",
    "\n",
    "# test_times.append(str(datetime.strptime(start_time, FMT) - datetime.strptime(test_time, FMT)))\n",
    "# print(test_times)\n",
    "\n",
    "for _ in range(max_hits):\n",
    "\n",
    "#     weather_sample = []\n",
    "#     for ele in driver.find_elements_by_css_selector('.label.label-weather.col-xs-8+*'):\n",
    "#         weather_sample.append(ele.text)\n",
    "\n",
    "#     print('track temp: {} temp: {} humidity: {} windspeed: {}'.format(*weather_sample))\n",
    "\n",
    "#     try:\n",
    "#         weather_samples.append([int(re.sub(r'[^0-9]', '', e)) for e in weather_sample])\n",
    "#     except ValueError as e:\n",
    "#         weather_samples.append([re.sub(r'[^0-9]', '', e) for e in weather_sample])\n",
    "\n",
    "    \n",
    "    table_sample = []\n",
    "    for ele in driver.find_elements_by_xpath(\"//table/tbody/tr\"):\n",
    "        row = [field.text for field in ele.find_elements_by_css_selector(\"*\") if field.text]\n",
    "        table_sample.append(row)\n",
    "\n",
    "    current_time = driver.find_element_by_class_name('hour-title').text\n",
    "    \n",
    "    for t in table_sample:\n",
    "        if driver_pit_num[t[2]] != t[-1]:\n",
    "            if(t[-1]!= 0):\n",
    "                pit_times[t[2]].append(str(datetime.strptime(start_time, FMT) - datetime.strptime(current_time, FMT)))\n",
    "            driver_pit_num[t[2]] = t[-1]\n",
    "    \n",
    "    with open('result.json', 'w') as fp:\n",
    "        json.dump(dict(pit_times), fp)\n",
    "    fp.close()\n",
    "#     time.sleep(interval)\n",
    "\n",
    "# print(weather_samples)\n",
    "print(current_time)\n",
    "print(driver_pit_num)\n",
    "print(pit_times)\n",
    "driver.quit()"
   ]
  },
  {
   "cell_type": "code",
   "execution_count": null,
   "metadata": {},
   "outputs": [],
   "source": []
  },
  {
   "cell_type": "code",
   "execution_count": null,
   "metadata": {},
   "outputs": [],
   "source": []
  }
 ],
 "metadata": {
  "kernelspec": {
   "display_name": "Python 3",
   "language": "python",
   "name": "python3"
  },
  "language_info": {
   "codemirror_mode": {
    "name": "ipython",
    "version": 3
   },
   "file_extension": ".py",
   "mimetype": "text/x-python",
   "name": "python",
   "nbconvert_exporter": "python",
   "pygments_lexer": "ipython3",
   "version": "3.8.3"
  }
 },
 "nbformat": 4,
 "nbformat_minor": 4
}

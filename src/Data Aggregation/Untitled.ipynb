{
 "cells": [
  {
   "cell_type": "code",
   "execution_count": 5,
   "metadata": {},
   "outputs": [],
   "source": [
    "import pandas as pd\n",
    "import numpy as np"
   ]
  },
  {
   "cell_type": "code",
   "execution_count": 6,
   "metadata": {},
   "outputs": [],
   "source": [
    "l18 = pd.read_csv('../../data/2018/18_lap_var.csv')\n",
    "l19 = pd.read_csv('../../data/2019/19_lap_var.csv')\n",
    "l20 = pd.read_csv('../../data/2020/20_lap_var.csv')"
   ]
  },
  {
   "cell_type": "code",
   "execution_count": 12,
   "metadata": {},
   "outputs": [],
   "source": [
    "df = pd.concat([l18, l19], axis=1)"
   ]
  },
  {
   "cell_type": "code",
   "execution_count": 13,
   "metadata": {},
   "outputs": [
    {
     "data": {
      "text/html": [
       "<div>\n",
       "<style scoped>\n",
       "    .dataframe tbody tr th:only-of-type {\n",
       "        vertical-align: middle;\n",
       "    }\n",
       "\n",
       "    .dataframe tbody tr th {\n",
       "        vertical-align: top;\n",
       "    }\n",
       "\n",
       "    .dataframe thead th {\n",
       "        text-align: right;\n",
       "    }\n",
       "</style>\n",
       "<table border=\"1\" class=\"dataframe\">\n",
       "  <thead>\n",
       "    <tr style=\"text-align: right;\">\n",
       "      <th></th>\n",
       "      <th>Driver</th>\n",
       "      <th>Var</th>\n",
       "      <th>Driver</th>\n",
       "      <th>Var</th>\n",
       "    </tr>\n",
       "  </thead>\n",
       "  <tbody>\n",
       "    <tr>\n",
       "      <th>0</th>\n",
       "      <td>Helio Castroneves</td>\n",
       "      <td>1.505163</td>\n",
       "      <td>Oliver Jarvis</td>\n",
       "      <td>38.962440</td>\n",
       "    </tr>\n",
       "    <tr>\n",
       "      <th>1</th>\n",
       "      <td>Dane Cameron</td>\n",
       "      <td>29.588485</td>\n",
       "      <td>Dane Cameron</td>\n",
       "      <td>2.021213</td>\n",
       "    </tr>\n",
       "    <tr>\n",
       "      <th>2</th>\n",
       "      <td>Oliver Jarvis</td>\n",
       "      <td>27.447206</td>\n",
       "      <td>Pipo Derani</td>\n",
       "      <td>41.049191</td>\n",
       "    </tr>\n",
       "    <tr>\n",
       "      <th>3</th>\n",
       "      <td>Jonathan Bomarito</td>\n",
       "      <td>31.739311</td>\n",
       "      <td>Joao Barbosa</td>\n",
       "      <td>1.627298</td>\n",
       "    </tr>\n",
       "    <tr>\n",
       "      <th>4</th>\n",
       "      <td>Renger Van Der Zande</td>\n",
       "      <td>37.146639</td>\n",
       "      <td>Helio Castroneves</td>\n",
       "      <td>1.191881</td>\n",
       "    </tr>\n",
       "    <tr>\n",
       "      <th>...</th>\n",
       "      <td>...</td>\n",
       "      <td>...</td>\n",
       "      <td>...</td>\n",
       "      <td>...</td>\n",
       "    </tr>\n",
       "    <tr>\n",
       "      <th>64</th>\n",
       "      <td>Simon Trummer</td>\n",
       "      <td>46.831832</td>\n",
       "      <td>Felipe Nasr</td>\n",
       "      <td>62.723900</td>\n",
       "    </tr>\n",
       "    <tr>\n",
       "      <th>65</th>\n",
       "      <td>Stephen Simpson</td>\n",
       "      <td>35.858649</td>\n",
       "      <td>Jonathan Bomarito</td>\n",
       "      <td>32.019194</td>\n",
       "    </tr>\n",
       "    <tr>\n",
       "      <th>66</th>\n",
       "      <td>Juan Pablo Montoya</td>\n",
       "      <td>25.862443</td>\n",
       "      <td>Kyle Kaiser</td>\n",
       "      <td>42.040815</td>\n",
       "    </tr>\n",
       "    <tr>\n",
       "      <th>67</th>\n",
       "      <td>Tristan Nunez</td>\n",
       "      <td>23.516247</td>\n",
       "      <td>Tristan Vautier</td>\n",
       "      <td>50.895121</td>\n",
       "    </tr>\n",
       "    <tr>\n",
       "      <th>68</th>\n",
       "      <td>NaN</td>\n",
       "      <td>NaN</td>\n",
       "      <td>Kyle Masson</td>\n",
       "      <td>22.606592</td>\n",
       "    </tr>\n",
       "  </tbody>\n",
       "</table>\n",
       "<p>69 rows × 4 columns</p>\n",
       "</div>"
      ],
      "text/plain": [
       "                  Driver        Var             Driver        Var\n",
       "0      Helio Castroneves   1.505163      Oliver Jarvis  38.962440\n",
       "1           Dane Cameron  29.588485       Dane Cameron   2.021213\n",
       "2          Oliver Jarvis  27.447206        Pipo Derani  41.049191\n",
       "3      Jonathan Bomarito  31.739311       Joao Barbosa   1.627298\n",
       "4   Renger Van Der Zande  37.146639  Helio Castroneves   1.191881\n",
       "..                   ...        ...                ...        ...\n",
       "64         Simon Trummer  46.831832        Felipe Nasr  62.723900\n",
       "65       Stephen Simpson  35.858649  Jonathan Bomarito  32.019194\n",
       "66    Juan Pablo Montoya  25.862443        Kyle Kaiser  42.040815\n",
       "67         Tristan Nunez  23.516247    Tristan Vautier  50.895121\n",
       "68                   NaN        NaN        Kyle Masson  22.606592\n",
       "\n",
       "[69 rows x 4 columns]"
      ]
     },
     "execution_count": 13,
     "metadata": {},
     "output_type": "execute_result"
    }
   ],
   "source": [
    "df"
   ]
  },
  {
   "cell_type": "code",
   "execution_count": null,
   "metadata": {},
   "outputs": [],
   "source": []
  }
 ],
 "metadata": {
  "kernelspec": {
   "display_name": "Python 3",
   "language": "python",
   "name": "python3"
  },
  "language_info": {
   "codemirror_mode": {
    "name": "ipython",
    "version": 3
   },
   "file_extension": ".py",
   "mimetype": "text/x-python",
   "name": "python",
   "nbconvert_exporter": "python",
   "pygments_lexer": "ipython3",
   "version": "3.7.6"
  }
 },
 "nbformat": 4,
 "nbformat_minor": 4
}
